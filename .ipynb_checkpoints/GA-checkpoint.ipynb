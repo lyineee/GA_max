{
 "cells": [
  {
   "cell_type": "code",
   "execution_count": 2,
   "metadata": {},
   "outputs": [
    {
     "data": {
      "image/png": "[encoded data removed]",
      "text/plain": [
       "<Figure size 432x288 with 1 Axes>"
      ]
     },
     "metadata": {
      "needs_background": "light"
     },
     "output_type": "display_data"
    }
   ],
   "source": [
    "import matplotlib.pyplot as plt \n",
    "import numpy as np \n",
    "\n",
    "\n",
    "def graph():\n",
    "    # -3*(x-30)**2*sin(x) \n",
    "    x = np.linspace(0, 15, 200)\n",
    "    y=(-3)*(x-30)**2*np.sin(x)\n",
    "    plt.figure()\n",
    "    plt.plot(x, y)\n",
    "    return plt\n",
    "if __name__ == \"__main__\":\n",
    "    img=graph()\n",
    "    img.show()"
   ]
  },
  {
   "cell_type": "code",
   "execution_count": 6,
   "metadata": {
    "scrolled": true
   },
   "outputs": [
    {
     "name": "stdout",
     "output_type": "stream",
     "text": [
      "4.7435644\n"
     ]
    }
   ],
   "source": [
    "import numpy as np \n",
    "import random\n",
    "\n",
    "def get_gene():\n",
    "    #divide 100 for float\n",
    "    geneList=[]\n",
    "    for i in range(100):\n",
    "        geneList.append(gen_bin())\n",
    "    # return geneList\n",
    "    return np.array(geneList)\n",
    "\n",
    "def gen_bin():\n",
    "    gen=''\n",
    "    for i in range(16):\n",
    "        gen+=str(random.randrange(0,2))\n",
    "    return gen\n",
    "    \n",
    "\n",
    "\n",
    "def cal_mean(geneList):\n",
    "    #TODO add end condition\n",
    "    result=(-3)*(gen_list_decode(geneList)-30)**2*np.sin(gen_list_decode(geneList))\n",
    "    #make result greater than 0\n",
    "    result+=3000\n",
    "    mean=result/np.sum(result)\n",
    "    nextGen=[]\n",
    "\n",
    "    for i,j in choice_two_from_gene(mean,50):\n",
    "        nextGen+=gene_crossover(geneList[i],geneList[j])\n",
    "    nextGen=np.array(nextGen)\n",
    "    return [nextGen,mean]\n",
    "\n",
    "def gene_variation(geneList,klist):\n",
    "    n=30\n",
    "    # geneList=list(geneListA)\n",
    "    for i in range(n):\n",
    "        num=choice_one_from_gene(klist)\n",
    "        gene=list(geneList[num])\n",
    "        gene[choice_one_from_gene([1/16]*16)]=str(random.randint(0,1))\n",
    "        geneList[num]=''.join(gene)\n",
    "\n",
    "    return geneList\n",
    "        \n",
    "def gene_crossover(gen1,gen2):\n",
    "    crossPoint=random.randint(0,15)\n",
    "    gen1p=[gen1[0:crossPoint],gen1[crossPoint:]]\n",
    "    gen2p=[gen2[0:crossPoint],gen2[crossPoint:]]\n",
    "    ngen1=gen1p[0]+gen2p[1]\n",
    "    ngen2=gen2p[0]+gen1p[1]\n",
    "    return [ngen1,ngen2]\n",
    "\n",
    "\n",
    "\n",
    "\n",
    "    \n",
    "def choice_one_from_gene(kList):\n",
    "        k=0\n",
    "        randnum=random.random()\n",
    "        for i in range(len(kList)):\n",
    "            if k<=randnum<=k+kList[i]:\n",
    "                return i\n",
    "            k+=kList[i]\n",
    "\n",
    "def choice_two_from_gene(kList,num):\n",
    "    for j in range(num):\n",
    "        yield [choice_one_from_gene(kList),choice_one_from_gene(kList)]\n",
    "\n",
    "    \n",
    "def gen_decode(gen):\n",
    "\n",
    "    data=str(int(gen[:3],2))+'.'+str(int(gen[2:],2))\n",
    "    data=float(data)\n",
    "    return data\n",
    "\n",
    "def gen_list_decode(genList):\n",
    "    data=[]\n",
    "    for i in range(genList.size):\n",
    "        data.append(gen_decode(genList[i]))\n",
    "    data=np.array(data)\n",
    "    return data\n",
    "    \n",
    "def iteration():\n",
    "    gene=get_gene()\n",
    "    for i in range(50):\n",
    "        a,klist=cal_mean(gene)\n",
    "        gene=gene_variation(a,klist)\n",
    "    result=gen_list_decode(gene)\n",
    "#     print(result)\n",
    "    print(np.mean(result))\n",
    "\n",
    "\n",
    "\n",
    "        \n",
    "\n",
    "def test():\n",
    "    a=cal_mean(get_gene())\n",
    "    print(a)\n",
    "    #print(gen_decode(a))\n",
    "    # print(len(a))\n",
    "\n",
    "\n",
    "\n",
    "\n",
    "if __name__ == \"__main__\":\n",
    "    iteration()\n"
   ]
  }
 ],
 "metadata": {
  "kernelspec": {
   "display_name": "Python 3",
   "language": "python",
   "name": "python3"
  },
  "language_info": {
   "codemirror_mode": {
    "name": "ipython",
    "version": 3
   },
   "file_extension": ".py",
   "mimetype": "text/x-python",
   "name": "python",
   "nbconvert_exporter": "python",
   "pygments_lexer": "ipython3",
   "version": "3.7.1"
  }
 },
 "nbformat": 4,
 "nbformat_minor": 2
}
